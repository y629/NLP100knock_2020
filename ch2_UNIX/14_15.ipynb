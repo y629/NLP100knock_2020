{
 "cells": [
  {
   "cell_type": "markdown",
   "metadata": {},
   "source": [
    "# 14 先頭からN行を出力\n",
    "自然数Nをコマンドライン引数などの手段で受け取り，入力のうち先頭のN行だけを表示せよ．確認にはheadコマンドを用いよ．\n",
    "\n",
    "# 15 末尾からN行を出力\n",
    "自然数Nをコマンドライン引数などの手段で受け取り，入力のうち末尾のN行だけを表示せよ．確認にはtailコマンドを用いよ．"
   ]
  },
  {
   "cell_type": "code",
   "execution_count": 6,
   "metadata": {},
   "outputs": [
    {
     "name": "stdout",
     "output_type": "stream",
     "text": [
      "3\n"
     ]
    }
   ],
   "source": [
    "# Nを入力\n",
    "N = int(input())"
   ]
  },
  {
   "cell_type": "code",
   "execution_count": 10,
   "metadata": {},
   "outputs": [
    {
     "name": "stdout",
     "output_type": "stream",
     "text": [
      "      0  1     2     3\n",
      "0  Mary  F  7065  1880\n",
      "1  Anna  F  2604  1880\n",
      "2  Emma  F  2003  1880\n",
      "          0  1      2     3\n",
      "2777  Lucas  M  12585  2018\n",
      "2778  Mason  M  12435  2018\n",
      "2779  Logan  M  12352  2018\n"
     ]
    }
   ],
   "source": [
    "import pandas as pd\n",
    "data = pd.read_table('popular_names.txt', header=None)\n",
    "# pandasのhead, tailで簡単にできる\n",
    "print(data.head(N))\n",
    "print(data.tail(N))"
   ]
  },
  {
   "cell_type": "markdown",
   "metadata": {},
   "source": [
    "## コマンドで確認\n",
    "\n",
    "コマンドで`head -n 3 popular_names.txt`みたいにやれば同じことができる（`tail` も同様）．\n",
    "\n",
    "`tail` コマンドは `-f` オプションでログファイルのリアルタイム監視で使えたりするので覚えておくといいかも．\n",
    "\n",
    "cf) https://www.atmarkit.co.jp/ait/articles/1603/07/news023.html"
   ]
  }
 ],
 "metadata": {
  "kernelspec": {
   "display_name": "Python 3",
   "language": "python",
   "name": "python3"
  },
  "language_info": {
   "codemirror_mode": {
    "name": "ipython",
    "version": 3
   },
   "file_extension": ".py",
   "mimetype": "text/x-python",
   "name": "python",
   "nbconvert_exporter": "python",
   "pygments_lexer": "ipython3",
   "version": "3.6.5"
  }
 },
 "nbformat": 4,
 "nbformat_minor": 4
}

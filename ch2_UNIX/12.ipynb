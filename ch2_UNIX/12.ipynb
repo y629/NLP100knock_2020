{
 "cells": [
  {
   "cell_type": "markdown",
   "metadata": {},
   "source": [
    "# 12 1列目をcol1.txtに，2列目をcol2.txtに保存\n",
    "各行の1列目だけを抜き出したものをcol1.txtに，2列目だけを抜き出したものをcol2.txtとしてファイルに保存せよ．確認にはcutコマンドを用いよ．"
   ]
  },
  {
   "cell_type": "code",
   "execution_count": 2,
   "metadata": {},
   "outputs": [],
   "source": [
    "# pandasを用いてデータを読み込む\n",
    "import pandas as pd\n",
    "# テキストデータから読み込み\n",
    "data = pd.read_table('popular_names.txt', header=None)"
   ]
  },
  {
   "cell_type": "code",
   "execution_count": 22,
   "metadata": {},
   "outputs": [
    {
     "name": "stdout",
     "output_type": "stream",
     "text": [
      "<class 'pandas.core.series.Series'>\n",
      "<class 'numpy.ndarray'>\n"
     ]
    }
   ],
   "source": [
    "# 0列目と1列目を抜き出す\n",
    "col1 = data[0]\n",
    "col2 = data[1]\n",
    "print(type(col1)) #<class 'pandas.core.series.Series'>\n",
    "\n",
    "# col1,col2のままではpandasのSeriesなのでファイルに書き込みできない\n",
    "# .valuesで列の値だけnumpy配列の形で取り出せる\n",
    "val1 = data[0].values\n",
    "val2 = data[1].values\n",
    "print(type(val1)) #<class 'numpy.ndarray'>\n",
    "\n",
    "# 出力用ファイルオープン\n",
    "o1 = open('col1.txt', 'w')\n",
    "o2 = open('col2.txt', 'w')\n",
    "\n",
    "# ファイルへの書き込みのループ\n",
    "for v1, v2 in zip(val1, val2):\n",
    "    o1.write(v1+'\\n') # 改行文字は自分でつける\n",
    "    o2.write(v2+'\\n')\n",
    "o1.close()\n",
    "o2.close()"
   ]
  },
  {
   "cell_type": "markdown",
   "metadata": {},
   "source": [
    "## コマンドで確認\n",
    "\n",
    "`cut`コマンドを使って切り出す．\n",
    "`-f`オプションで切り出すフィールド（整数，今回は1か2）を，`-d`オプションでフィールドごとの区切り文字（今回はタブ文字）を指定する．\n",
    "\n",
    "以下のコマンドにより，タブ文字で区切ったフィールドの1,2番目だけを切り出して別のファイルにリダイレクトして出力できる．\n",
    "\n",
    "`cut -f 1 -d \"     \" popular_names.txt > col1_cutcommand.txt`\n",
    "\n",
    "`cut -f 2 -d \"     \" popular_names.txt > col2_cutcommand.txt`\n",
    "\n",
    "cf) https://www.atmarkit.co.jp/ait/articles/1610/31/news026.html"
   ]
  }
 ],
 "metadata": {
  "kernelspec": {
   "display_name": "Python 3",
   "language": "python",
   "name": "python3"
  },
  "language_info": {
   "codemirror_mode": {
    "name": "ipython",
    "version": 3
   },
   "file_extension": ".py",
   "mimetype": "text/x-python",
   "name": "python",
   "nbconvert_exporter": "python",
   "pygments_lexer": "ipython3",
   "version": "3.6.5"
  }
 },
 "nbformat": 4,
 "nbformat_minor": 4
}

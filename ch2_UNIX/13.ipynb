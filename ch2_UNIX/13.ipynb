{
 "cells": [
  {
   "cell_type": "markdown",
   "metadata": {},
   "source": [
    "# 13 col1.txtとcol2.txtをマージ\n",
    "12で作ったcol1.txtとcol2.txtを結合し，元のファイルの1列目と2列目をタブ区切りで並べたテキストファイルを作成せよ．確認にはpasteコマンドを用いよ．"
   ]
  },
  {
   "cell_type": "code",
   "execution_count": 8,
   "metadata": {},
   "outputs": [],
   "source": [
    "# col1とcol2を読み取り用でオープン\n",
    "c1 = open('col1.txt', 'r')\n",
    "c2 = open('col2.txt', 'r')\n",
    "\n",
    "# 出力用ファイルオープン\n",
    "with open('col1_2.txt', 'w') as f:\n",
    "    # 各ファイルから1行ずつ読み込み\n",
    "    while True:\n",
    "        # strip()で改行文字を取り除く\n",
    "        v1 = c1.readline().strip()\n",
    "        v2 = c2.readline().strip()\n",
    "        if len(v1)==0:\n",
    "            break\n",
    "        else:\n",
    "            # タブ文字で連結\n",
    "            v = v1 + '\\t' + v2\n",
    "        f.write(v+'\\n')\n",
    "c1.close()\n",
    "c2.close()"
   ]
  },
  {
   "cell_type": "markdown",
   "metadata": {},
   "source": [
    "## コマンドで確認\n",
    "\n",
    "`paste -d '\\t' col1.txt col2.txt`を実行すれば全く同じことができる．\n",
    "`-d` は区切り文字(delimiters)のオプションなので，今回は `'\\t'`と設定する．\n",
    "\n",
    "cf) https://eng-entrance.com/linux-command-paste"
   ]
  }
 ],
 "metadata": {
  "kernelspec": {
   "display_name": "Python 3",
   "language": "python",
   "name": "python3"
  },
  "language_info": {
   "codemirror_mode": {
    "name": "ipython",
    "version": 3
   },
   "file_extension": ".py",
   "mimetype": "text/x-python",
   "name": "python",
   "nbconvert_exporter": "python",
   "pygments_lexer": "ipython3",
   "version": "3.6.5"
  }
 },
 "nbformat": 4,
 "nbformat_minor": 4
}

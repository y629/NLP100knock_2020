{
 "cells": [
  {
   "cell_type": "markdown",
   "metadata": {},
   "source": [
    "# 11 タブをスペースに置換\n",
    "タブ1文字につきスペース1文字に置換せよ．確認にはsedコマンド，trコマンド，もしくはexpandコマンドを用いよ．"
   ]
  },
  {
   "cell_type": "code",
   "execution_count": 10,
   "metadata": {},
   "outputs": [
    {
     "name": "stdout",
     "output_type": "stream",
     "text": [
      "2780\n"
     ]
    }
   ],
   "source": [
    "# 出力用のファイル\n",
    "o = open('space_sep.txt', 'w')\n",
    "c = 0\n",
    "\n",
    "with open('popular_names.txt', 'r') as f:\n",
    "    # 1行の読み込みを繰り返す\n",
    "    while True:\n",
    "        line = f.readline() # 行末は改行コードがついてかえってくるらしい\n",
    "        # 空文字を読み込んだらbreak\n",
    "        if not line: # if len(line)==0 でもOK\n",
    "            break\n",
    "        \n",
    "        # タブ文字をスペースに置き換える\n",
    "        space_line = line.replace('\\t', ' ')\n",
    "        # 出力用のファイルに書き込み\n",
    "        o.write(space_line)\n",
    "        c += 1\n",
    "print(c) # チェック用に書き込みできた回数=元のファイルの行数を出力\n",
    "o.close()"
   ]
  },
  {
   "cell_type": "markdown",
   "metadata": {},
   "source": [
    "## コマンドで確認\n",
    "\n",
    "\n",
    "### trコマンド\n",
    "\n",
    "`tr`コマンドにより文字列の置換ができる．\n",
    "\n",
    "パイプとリダイレクトを用いた以下のコマンドを実行する．\n",
    "`tr`コマンドにより `popular_names.txt` 中のタブを半角スペースで置き換えたものが `tr_command.txt` として出力される．\n",
    "\n",
    "`cat popular_names.txt | tr '\\t' ' ' > tr_command.txt`\n",
    "\n",
    "そのあと，`diff tr_command.txt space_sep.txt` を実行すると何も出力されない．つまり，上のプログラムにより生成されたテキストと同じものが生成されたことがわかる．\n",
    "\n",
    "cf) https://hydrocul.github.io/wiki/commands/tr.html\n",
    "\n",
    "### sedコマンド\n",
    "\n",
    "`sed`コマンドによっても文字列の置換ができる．\n",
    "\n",
    "`tr`コマンドの時と同様にパイプとリダイレクトで以下のように実行する．\n",
    "\n",
    "`cat popular_names.txt | sed -e \"s/        / /g\" > sed_command.txt`\n",
    "\n",
    "このときの`\"s/before/after/g\"` により `before` が `after` に置き換えられ，その結果が `sed_command.txt` に出力される．\n",
    "\n",
    "今回でいう `before`　の部分は `popular_names.txt` 中のタブ文字をコピーしてきた．スペース入れても意味ないので注意．\n",
    "\n",
    "`diff sed_command.txt space_sep.txt` を実行すると何も出力されないので，上のプログラムにより生成されたテキストと同じものが生成されたことがわかる．\n",
    "\n",
    "cf) https://hydrocul.github.io/wiki/commands/sed.html\n",
    "\n",
    "\n",
    "### expandコマンド\n",
    "\n",
    "`expand`コマンドにより，ファイル中のタブを半角スペースに置き換えることができる．\n",
    "何個のスペースに置き換えるかは `-t` オプションで指定できる（今回は1個のスペースで置き換える．）\n",
    "\n",
    "以下を実行すれば良い．\n",
    "\n",
    "`cat popular_names.txt | expand -t 1 > expand_command.txt`\n",
    "\n",
    "同様に `diff` コマンドで結果の妥当性を確認できる．\n",
    "\n",
    "cf) https://webkaru.net/linux/expand-command/"
   ]
  }
 ],
 "metadata": {
  "kernelspec": {
   "display_name": "Python 3",
   "language": "python",
   "name": "python3"
  },
  "language_info": {
   "codemirror_mode": {
    "name": "ipython",
    "version": 3
   },
   "file_extension": ".py",
   "mimetype": "text/x-python",
   "name": "python",
   "nbconvert_exporter": "python",
   "pygments_lexer": "ipython3",
   "version": "3.6.5"
  }
 },
 "nbformat": 4,
 "nbformat_minor": 4
}

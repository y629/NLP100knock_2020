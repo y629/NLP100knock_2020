{
 "cells": [
  {
   "cell_type": "markdown",
   "metadata": {},
   "source": [
    "# 17 1列目の文字列の異なり\n",
    "1列目の文字列の種類（異なる文字列の集合）を求めよ．確認にはcut, sort, uniqコマンドを用いよ．"
   ]
  },
  {
   "cell_type": "code",
   "execution_count": 10,
   "metadata": {},
   "outputs": [
    {
     "name": "stdout",
     "output_type": "stream",
     "text": [
      "2780\n",
      "136\n"
     ]
    }
   ],
   "source": [
    "import pandas as pd\n",
    "# データの読み込み\n",
    "df = pd.read_table('popular_names.txt', header=None)\n",
    "# 1列目の値を取り出す\n",
    "col1 = df[0].values\n",
    "print(len(col1)) # => 2780\n",
    "# 集合型にすることで重複を取り除いてからlen()\n",
    "print(len(set(col1))) # =>136"
   ]
  },
  {
   "cell_type": "markdown",
   "metadata": {},
   "source": [
    "## コマンドで確認\n",
    "\n",
    "流れとしては，\n",
    "`cut` コマンドで1列目だけ取り出し，それを `sort` コマンドでソートしてから，`uniq` コマンドで重複を取り除き，その数を `wc` コマンドに `-l` オプションをつけて数えて出力する．コマンドは以下．\n",
    "\n",
    "`cut -f 1 -d '     ' popular_names.txt | sort | uniq | wc -l`\n",
    "\n",
    "`cut`と`wc`はch2のこれまででやったので復習になった．コマンドをパイプでつないでいくのがポイント．\n",
    "\n",
    "\n",
    "重複なしの名前をファイル `uniq_names.txt` に保存しておきたい場合は，以下のようにすれば良い．\n",
    "\n",
    "`cut -f 1 -d '     ' popular_names.txt | sort | uniq > uniq_names.txt`\n",
    "\n",
    "重複なしの名前の数は， `wc -l uniq_names.txt` とすれば数えられる．\n",
    "\n",
    "cf) https://uxmilk.jp/53546"
   ]
  }
 ],
 "metadata": {
  "kernelspec": {
   "display_name": "Python 3",
   "language": "python",
   "name": "python3"
  },
  "language_info": {
   "codemirror_mode": {
    "name": "ipython",
    "version": 3
   },
   "file_extension": ".py",
   "mimetype": "text/x-python",
   "name": "python",
   "nbconvert_exporter": "python",
   "pygments_lexer": "ipython3",
   "version": "3.6.5"
  }
 },
 "nbformat": 4,
 "nbformat_minor": 4
}

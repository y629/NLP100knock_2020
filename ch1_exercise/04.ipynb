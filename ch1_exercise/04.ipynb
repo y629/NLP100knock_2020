{
 "cells": [
  {
   "cell_type": "markdown",
   "metadata": {},
   "source": [
    "# 04 元素記号\n",
    "“Hi He Lied Because Boron Could Not Oxidize Fluorine. New Nations Might Also Sign Peace Security Clause. Arthur King Can.”という文を単語に分解し，1, 5, 6, 7, 8, 9, 15, 16, 19番目の単語は先頭の1文字，それ以外の単語は先頭の2文字を取り出し，取り出した文字列から単語の位置（先頭から何番目の単語か）への連想配列（辞書型もしくはマップ型）を作成せよ．"
   ]
  },
  {
   "cell_type": "code",
   "execution_count": 18,
   "metadata": {},
   "outputs": [
    {
     "name": "stdout",
     "output_type": "stream",
     "text": [
      "{1: 'H', 2: 'He', 3: 'Li', 4: 'Be', 5: 'B', 6: 'C', 7: 'N', 8: 'O', 9: 'F', 10: 'Ne', 11: 'Na', 12: 'Mi', 13: 'Al', 14: 'Si', 15: 'P', 16: 'S', 17: 'Cl', 18: 'Ar', 19: 'K', 20: 'Ca'}\n"
     ]
    }
   ],
   "source": [
    "# 解答\n",
    "\n",
    "sentence = 'Hi He Lied Because Boron Could Not Oxidize Fluorine. New Nations Might Also Sign Peace Security Clause. Arthur King Can.'\n",
    "words = sentence.replace('.', '').replace(',', '').split()\n",
    "\n",
    "# 1文字だけ取り出すインデックスのリスト\n",
    "uni = [0, 4, 5, 6, 7, 8, 14, 15, 18]\n",
    "\n",
    "ans = dict()\n",
    "for i, w in enumerate(words):\n",
    "    # i が uni に含まれてる時は１文字，そうでないときは2文字取り出す(三項演算子を用いた)\n",
    "    ans[i+1] = w[:1] if (i in uni) else w[:2]\n",
    "print(ans)"
   ]
  },
  {
   "cell_type": "code",
   "execution_count": 19,
   "metadata": {},
   "outputs": [
    {
     "name": "stdout",
     "output_type": "stream",
     "text": [
      "0 Hi\n",
      "1 He\n",
      "2 Lied\n",
      "3 Because\n",
      "4 Boron\n",
      "5 Could\n",
      "6 Not\n",
      "7 Oxidize\n",
      "8 Fluorine\n",
      "9 New\n",
      "10 Nations\n",
      "11 Might\n",
      "12 Also\n",
      "13 Sign\n",
      "14 Peace\n",
      "15 Security\n",
      "16 Clause\n",
      "17 Arthur\n",
      "18 King\n",
      "19 Can\n"
     ]
    }
   ],
   "source": [
    "# enumerate()を使えば配列の要素とインデックスを用いてループがかける\n",
    "for i, w in enumerate(words):\n",
    "    print(i, w)"
   ]
  },
  {
   "cell_type": "code",
   "execution_count": null,
   "metadata": {},
   "outputs": [],
   "source": []
  }
 ],
 "metadata": {
  "kernelspec": {
   "display_name": "Python 3",
   "language": "python",
   "name": "python3"
  },
  "language_info": {
   "codemirror_mode": {
    "name": "ipython",
    "version": 3
   },
   "file_extension": ".py",
   "mimetype": "text/x-python",
   "name": "python",
   "nbconvert_exporter": "python",
   "pygments_lexer": "ipython3",
   "version": "3.6.5"
  }
 },
 "nbformat": 4,
 "nbformat_minor": 4
}

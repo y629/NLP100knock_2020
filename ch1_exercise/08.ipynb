{
 "cells": [
  {
   "cell_type": "markdown",
   "metadata": {},
   "source": [
    "# 08 暗号文\n",
    "与えられた文字列の各文字を，以下の仕様で変換する関数cipherを実装せよ．\n",
    "\n",
    "- 英小文字ならば(219 - 文字コード)の文字に置換\n",
    "- その他の文字はそのまま出力\n",
    "\n",
    "この関数を用い，英語のメッセージを暗号化・復号化せよ．\n",
    "\n"
   ]
  },
  {
   "cell_type": "code",
   "execution_count": 3,
   "metadata": {},
   "outputs": [],
   "source": [
    "def cipher(sent:str):\n",
    "    crypt = str()\n",
    "    for c in sent:\n",
    "        # 各文字が英小文字がどうか判定\n",
    "        if c.islower():\n",
    "            # ord: 文字=>文字コード, chr: 文字コード=>文字の変換ができる\n",
    "            crypt += chr(219 - ord(c))\n",
    "        else:\n",
    "            crypt += c\n",
    "    return crypt"
   ]
  },
  {
   "cell_type": "code",
   "execution_count": 12,
   "metadata": {},
   "outputs": [
    {
     "name": "stdout",
     "output_type": "stream",
     "text": [
      "暗号文: Hvool\n",
      "平文: Hello\n"
     ]
    }
   ],
   "source": [
    "# 暗号化\n",
    "crypt = cipher('Hello')\n",
    "print('暗号文: {}'.format(crypt))\n",
    "# 復号化(2回暗号化すれば復号できてしまう)\n",
    "plane = cipher(crypt)\n",
    "print('平文: {}'.format(plane))"
   ]
  }
 ],
 "metadata": {
  "kernelspec": {
   "display_name": "Python 3",
   "language": "python",
   "name": "python3"
  },
  "language_info": {
   "codemirror_mode": {
    "name": "ipython",
    "version": 3
   },
   "file_extension": ".py",
   "mimetype": "text/x-python",
   "name": "python",
   "nbconvert_exporter": "python",
   "pygments_lexer": "ipython3",
   "version": "3.6.5"
  }
 },
 "nbformat": 4,
 "nbformat_minor": 4
}

{
 "cells": [
  {
   "cell_type": "markdown",
   "metadata": {},
   "source": [
    "# 00 文字列の逆順\n",
    "\n",
    "文字列”stressed”の文字を逆に（末尾から先頭に向かって）並べた文字列を得よ．"
   ]
  },
  {
   "cell_type": "code",
   "execution_count": 9,
   "metadata": {},
   "outputs": [
    {
     "name": "stdout",
     "output_type": "stream",
     "text": [
      "desserts\n"
     ]
    }
   ],
   "source": [
    "# 解答\n",
    "str = 'stressed'\n",
    "print(str[::-1])\n",
    "# print(''.join(list(reversed(str)))) # 別解"
   ]
  },
  {
   "cell_type": "markdown",
   "metadata": {},
   "source": [
    "## 配列のスライスについて確認"
   ]
  },
  {
   "cell_type": "code",
   "execution_count": 59,
   "metadata": {},
   "outputs": [
    {
     "name": "stdout",
     "output_type": "stream",
     "text": [
      "str => stressed\n",
      "str[1:6] => tress\n",
      "str[3:] => essed\n",
      "str[:3] => str\n",
      "str[1:6:2] => tes\n",
      "str[::-1] => desserts\n"
     ]
    }
   ],
   "source": [
    "print('str => {}'.format(str))\n",
    "\n",
    "# 指定した区間を切り出す\n",
    "print('str[1:6] => {}'.format(str[1:6]))\n",
    "\n",
    "# 指定インデックスから末尾まで\n",
    "print('str[3:] => {}'.format(str[3:]))\n",
    "\n",
    "# 指定インデックスまで\n",
    "print('str[:3] => {}'.format(str[:3]))\n",
    "\n",
    "# 切り出す幅を指定\n",
    "print('str[1:6:2] => {}'.format(str[1:6:2]))\n",
    "\n",
    "# リバース\n",
    "print('str[::-1] => {}'.format(str[::-1]))"
   ]
  },
  {
   "cell_type": "markdown",
   "metadata": {},
   "source": [
    "## 別解について\n",
    "\n",
    "reversedをlistに変換してから1つの文字列につなげている"
   ]
  }
 ],
 "metadata": {
  "kernelspec": {
   "display_name": "Python 3",
   "language": "python",
   "name": "python3"
  },
  "language_info": {
   "codemirror_mode": {
    "name": "ipython",
    "version": 3
   },
   "file_extension": ".py",
   "mimetype": "text/x-python",
   "name": "python",
   "nbconvert_exporter": "python",
   "pygments_lexer": "ipython3",
   "version": "3.6.5"
  }
 },
 "nbformat": 4,
 "nbformat_minor": 4
}

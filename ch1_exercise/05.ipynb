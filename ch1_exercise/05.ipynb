{
 "cells": [
  {
   "cell_type": "markdown",
   "metadata": {},
   "source": [
    "# 05 n-gram\n",
    "与えられたシーケンス（文字列やリストなど）からn-gramを作る関数を作成せよ．この関数を用い，”I am an NLPer”という文から単語bi-gram，文字bi-gramを得よ．"
   ]
  },
  {
   "cell_type": "code",
   "execution_count": 147,
   "metadata": {},
   "outputs": [],
   "source": [
    "# 与えられたシーケンスから n-gram を返す関数\n",
    "def ngram(seq, n, token='word'):\n",
    "    # 単語n-gramの場合， 単語ごとに配列に分けるためにsplitする\n",
    "    if token == 'word':\n",
    "        seq = seq.split(' ')\n",
    "        \n",
    "    ret = list()\n",
    "    l = len(seq)\n",
    "    for i, s in enumerate(seq):\n",
    "        # i+n > l の場合 n個のかたまりが作れないのでpass\n",
    "        if (i+n) <= l:\n",
    "             ret.append(seq[i:i+n])\n",
    "    return ret"
   ]
  },
  {
   "cell_type": "code",
   "execution_count": 151,
   "metadata": {},
   "outputs": [
    {
     "name": "stdout",
     "output_type": "stream",
     "text": [
      "I am an NLPer\n",
      "単語bi-gram:\n",
      "[['I', 'am'], ['am', 'an'], ['an', 'NLPer']]\n",
      "文字bi-gram:\n",
      "['I ', ' a', 'am', 'm ', ' a', 'an', 'n ', ' N', 'NL', 'LP', 'Pe', 'er']\n"
     ]
    }
   ],
   "source": [
    "sentence = 'I am an NLPer'\n",
    "print(sentence)\n",
    "print('単語bi-gram:')\n",
    "print(ngram(sentence, 2, 'word'))\n",
    "print('文字bi-gram:')\n",
    "print(ngram(sentence, 2, 'char'))"
   ]
  }
 ],
 "metadata": {
  "kernelspec": {
   "display_name": "Python 3",
   "language": "python",
   "name": "python3"
  },
  "language_info": {
   "codemirror_mode": {
    "name": "ipython",
    "version": 3
   },
   "file_extension": ".py",
   "mimetype": "text/x-python",
   "name": "python",
   "nbconvert_exporter": "python",
   "pygments_lexer": "ipython3",
   "version": "3.6.5"
  }
 },
 "nbformat": 4,
 "nbformat_minor": 4
}

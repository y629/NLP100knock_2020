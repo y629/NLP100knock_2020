{
 "cells": [
  {
   "cell_type": "markdown",
   "metadata": {},
   "source": [
    "# 09 TypoglycemiaPermalink\n",
    "\n",
    "スペースで区切られた単語列に対して，各単語の先頭と末尾の文字は残し，それ以外の文字の順序をランダムに並び替えるプログラムを作成せよ．ただし，長さが４以下の単語は並び替えないこととする．適当な英語の文（例えば”I couldn’t believe that I could actually understand what I was reading : the phenomenal power of the human mind .”）を与え，その実行結果を確認せよ．"
   ]
  },
  {
   "cell_type": "code",
   "execution_count": 38,
   "metadata": {},
   "outputs": [],
   "source": [
    "import random\n",
    "\n",
    "def TypoglycemiaPermalink(sent:str):\n",
    "    # 文を単語で分割しリストにする\n",
    "    ret = sent.split()\n",
    "    # 4文字より多い文字の単語のインデックスのリスト（これらの文字はシャッフルする）\n",
    "    idxs = [ret.index(s) for s in ret if len(s) > 4]\n",
    "    \n",
    "    for idx in idxs:\n",
    "        s = ret[idx]\n",
    "        # 先頭と末尾以外の部分を抜き出す\n",
    "        sub_s = s[1:-1]\n",
    "        # listに変換してシャッフルを行う\n",
    "        sub_s = list(sub_s)\n",
    "        random.shuffle(sub_s)\n",
    "        # 文字を再構築してリターンする\n",
    "        ret[idx] = s[0] + ''.join(sub_s) + s[-1]\n",
    "    return ' '.join(ret)"
   ]
  },
  {
   "cell_type": "code",
   "execution_count": 42,
   "metadata": {},
   "outputs": [
    {
     "data": {
      "text/plain": [
       "'I cunold’t blvieee that I cloud alatucly usnaertndd what I was renadig : the pneomnhael pewor of the haumn mind .'"
      ]
     },
     "execution_count": 42,
     "metadata": {},
     "output_type": "execute_result"
    }
   ],
   "source": [
    "TypoglycemiaPermalink('I couldn’t believe that I could actually understand what I was reading : the phenomenal power of the human mind .')"
   ]
  }
 ],
 "metadata": {
  "kernelspec": {
   "display_name": "Python 3",
   "language": "python",
   "name": "python3"
  },
  "language_info": {
   "codemirror_mode": {
    "name": "ipython",
    "version": 3
   },
   "file_extension": ".py",
   "mimetype": "text/x-python",
   "name": "python",
   "nbconvert_exporter": "python",
   "pygments_lexer": "ipython3",
   "version": "3.6.5"
  }
 },
 "nbformat": 4,
 "nbformat_minor": 4
}

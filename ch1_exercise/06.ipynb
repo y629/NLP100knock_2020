{
 "cells": [
  {
   "cell_type": "markdown",
   "metadata": {},
   "source": [
    "# 06 集合\n",
    "“paraparaparadise”と”paragraph”に含まれる文字bi-gramの集合を，それぞれ, XとYとして求め，XとYの和集合，積集合，差集合を求めよ．さらに，’se’というbi-gramがXおよびYに含まれるかどうかを調べよ．"
   ]
  },
  {
   "cell_type": "code",
   "execution_count": 4,
   "metadata": {},
   "outputs": [],
   "source": [
    "# 与えられたシーケンスから n-gram を返す関数\n",
    "def ngram(seq, n=2, token='char'):\n",
    "    # 単語n-gramの場合， 単語ごとに配列に分けるためにsplitする\n",
    "    if token == 'word':\n",
    "        seq = seq.split(' ')\n",
    "        \n",
    "    ret = list()\n",
    "    l = len(seq)\n",
    "    for i, s in enumerate(seq):\n",
    "        if (i+n) <= l:\n",
    "             ret.append(seq[i:i+n])\n",
    "    return ret"
   ]
  },
  {
   "cell_type": "code",
   "execution_count": 7,
   "metadata": {},
   "outputs": [
    {
     "name": "stdout",
     "output_type": "stream",
     "text": [
      "x={'pa', 'is', 'ar', 'ad', 'ra', 'ap', 'se', 'di'}\n",
      "y={'pa', 'ar', 'ag', 'ra', 'ap', 'gr', 'ph'}\n"
     ]
    }
   ],
   "source": [
    "# 文字bi-gramの集合を作成\n",
    "x = set(ngram('paraparaparadise'))\n",
    "y = set(ngram('paragraph'))\n",
    "print('x={}\\ny={}'.format(x, y))"
   ]
  },
  {
   "cell_type": "code",
   "execution_count": 18,
   "metadata": {},
   "outputs": [
    {
     "name": "stdout",
     "output_type": "stream",
     "text": [
      "xとyの和集合={'pa', 'is', 'ar', 'ag', 'ad', 'ra', 'ap', 'gr', 'se', 'di', 'ph'}\n",
      "xとyの積集合={'ar', 'ap', 'pa', 'ra'}\n",
      "xとyの差集合={'di', 'ad', 'se', 'is'}\n",
      "'se' in x = True\n",
      "'se' in y = False\n"
     ]
    }
   ],
   "source": [
    "print('xとyの和集合={}'.format(x|y))\n",
    "print('xとyの積集合={}'.format(x&y))\n",
    "print('xとyの差集合={}'.format(x-y))\n",
    "print(\"'se' in x = {}\".format('se' in x))\n",
    "print(\"'se' in y = {}\".format('se' in y))"
   ]
  }
 ],
 "metadata": {
  "kernelspec": {
   "display_name": "Python 3",
   "language": "python",
   "name": "python3"
  },
  "language_info": {
   "codemirror_mode": {
    "name": "ipython",
    "version": 3
   },
   "file_extension": ".py",
   "mimetype": "text/x-python",
   "name": "python",
   "nbconvert_exporter": "python",
   "pygments_lexer": "ipython3",
   "version": "3.6.5"
  }
 },
 "nbformat": 4,
 "nbformat_minor": 4
}
